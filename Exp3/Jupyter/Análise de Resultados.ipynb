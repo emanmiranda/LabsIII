{
 "cells": [
  {
   "cell_type": "markdown",
   "id": "d2ffdf5a",
   "metadata": {},
   "source": [
    "# Índice de refração do Ar"
   ]
  },
  {
   "cell_type": "markdown",
   "id": "9defe5d1",
   "metadata": {},
   "source": [
    "Após a realização da montagem 1 fizemos 10 ensaios de N=30 e utilizamos a equação 1 para cálcular o índice de refração do ar obtendo os seguintes valores:\\\n",
    "Média das distâncias medidas: 9.400e-06 m\\\n",
    "Índice de refração do ar (n): 1.018\\\n",
    "Incerteza em n: 2.889e-02 (2.84%)\\\n",
    "Erro relativo (n = 1.0002718): 1.81%"
   ]
  },
  {
   "cell_type": "markdown",
   "id": "a2655958",
   "metadata": {},
   "source": [
    "Os resultados obtidos para o índice de refração do ar apresentam uma boa concordância com o valor de referência, evidenciado por um erro relativo de 1,81%, o que sugere uma precisão satisfatória na sua determinação. A incerteza associada ao índice de refração é relativamente baixa, indicando que a metodologia experimental foi eficaz. No entanto, várias fontes de erro podem ter influenciado os resultados, incluindo imprecisões na medição das distâncias, desvios no alinhamento do interferómetro, flutuações nas condições ambientais (como temperatura e pressão), bem como as limitações na resolução do equipamento utilizado. Para melhorar a precisão seria aconselhável aumentar o número de ensaios para melhorar a fiabilidade estatística, realizar calibrações mais frequentes do interferómetro e controlar rigorosamente as condições ambientais durante a execução das medições."
   ]
  },
  {
   "cell_type": "markdown",
   "id": "dd3a7ab4",
   "metadata": {},
   "source": [
    "# Índice de refração do vidro"
   ]
  },
  {
   "cell_type": "markdown",
   "id": "f511d784",
   "metadata": {},
   "source": [
    "Nesta parte da experiência variamos o ângulo da lâmina de vidro em relação ao espelho 1 e verificamos que o seu zero verdadeiro se encontrava em 0.7º, sendo todos os valores de ângulo obtidos posteriormente ajustados deste fator. De seguida variamos o ângulo e medimos o número de N com o interferómetro tenho obtido os valores já apresentados neste logbook. Utilizamos a equação 3 e o índice de refração do ar já calculado para determinar o índice de refração do vidro tendo obtido os seguintes valores:\\\n",
    "N = 20, Ângulo corrigido = 0.068 rad, nv = 2.007 ± 0.182 (9.09%)\\\n",
    "N = 25, Ângulo corrigido = 0.087 rad, nv = 1.629 ± 0.149 (9.16%)\\\n",
    "N = 30, Ângulo corrigido = 0.099 rad, nv = 1.558 ± 0.143 (9.19%)\\\n",
    "N = 35, Ângulo corrigido = 0.106 rad, nv = 1.574 ± 0.145 (9.18%)\\\n",
    "N = 40, Ângulo corrigido = 0.110 rad, nv = 1.639 ± 0.150 (9.16%)\\\n",
    "N = 50, Ângulo corrigido = 0.124 rad, nv = 1.624 ± 0.149 (9.16%)\\\n",
    "\\\n",
    "Valor médio de nv = 1.650 ± 0.062 (3.75%)\\\n",
    "\\\n",
    "Erro relativo para cada tipo de vidro:\\\n",
    "Crown Glass: 8.56%\\\n",
    "Zinc-Crown Glass: 4.77%\\\n",
    "Heaviest-Flint Glass: 12.69%"
   ]
  },
  {
   "cell_type": "markdown",
   "id": "0646214b",
   "metadata": {},
   "source": [
    "Os resultados obtidos para o índice de refração do vidro (nv) são consistentes, com uma média de nv=1.650±0.062 (3.75%). No entanto, ao comparar com os valores reais dos índices de refração para diferentes tipos de vidro, observamos que os erros relativos são mais elevados, especialmente para o vidro Crown (8.56%) e o Heaviest-Flint (12.69%), o que indica que o tipo de vidro utilizado provavelmente terá sido o Zinc-Crown, mas mesmo assim obtivemos um valor distante do ideal.\n",
    "Este erro é causado principalmente pela imprecisão nas medições do ângulo e na variação do ângulo para a contagem do número de franjas N. A precisão limitada dessas medições afeta diretamente o cálculo de nv, levando a uma discrepância significativa quando comparado com as referências. Para melhorar os resultados seria necessário aumentar a precisão na medição dos ângulos e realizar mais medições para ter uma estatística melhor."
   ]
  },
  {
   "cell_type": "markdown",
   "id": "69b3c3e3",
   "metadata": {},
   "source": [
    "# Difração"
   ]
  },
  {
   "cell_type": "markdown",
   "id": "38e5b99a",
   "metadata": {},
   "source": [
    "## Determinar a abertura de uma fenda linear"
   ]
  },
  {
   "cell_type": "markdown",
   "id": "494377e5",
   "metadata": {},
   "source": [
    "Para esta parte a montagem já estava realizada quando chegamos ao laboratório. Verificamos todo o equipamento e decidimos não refazer a montagem pois tinhamos um padrão de difração muito bem definido e realizamos as medições tendo obtido os seguintes resultados:\\\n",
    "m =  1, Y = 0.035 m, b = 4.194e-05 ± 5.992e-07 m (1.43%)\\\n",
    "m =  2, Y = 0.073 m, b = 4.022e-05 ± 2.756e-07 m (0.69%)\\\n",
    "m =  3, Y = 0.111 m, b = 3.967e-05 ± 1.789e-07 m (0.45%)\\\n",
    "\\\n",
    "Valor médio de b = 3.996e-05 ± 1.456e-07 m (0.36%)"
   ]
  },
  {
   "cell_type": "markdown",
   "id": "50ac63c9",
   "metadata": {},
   "source": [
    "Os resultados obtidos mostram uma tendência de redução progressiva da incerteza à medida que a ordem do mínimo aumenta. Isto ocorre porque o aumento na separação entre os mínimos facilita medições mais precisas.\n",
    "A incerteza total, para o valor médio da fenda, foi de 0.36%, o que reflete a precisão na determinação do tamanho da fenda. Para otimizar ainda mais os resultados, seria interessante explorar distâncias maiores entre a fenda e o padrão pois isto ia aumentar a imagem do padrão de difração, o que reduzia a incerteza nas nossas medições, ou aprimorar a resolução do sistema óptico."
   ]
  },
  {
   "cell_type": "markdown",
   "id": "52fb6591",
   "metadata": {},
   "source": [
    "## Determinar o diâmetro de um cabelo"
   ]
  },
  {
   "cell_type": "markdown",
   "id": "955490cb",
   "metadata": {},
   "source": [
    "Para esta parte utilizamos um fio de cabelo da Angélica, que colocamos no suporte do ponto anterior e realizamos exatamente o mesmo protocolo, tendo obtido os seguintes resultados:\\\n",
    "m =  1, Y = 0.009 m, b = 1.631e-04 ± 9.061e-06 m (5.56%)\\\n",
    "m =  2, Y = 0.015 m, b = 1.894e-04 ± 6.110e-06 m (3.23%)\\\n",
    "m =  3, Y = 0.023 m, b = 1.915e-04 ± 4.162e-06 m (2.17%)\\\n",
    "\\\n",
    "Valor médio de b = 1.873e-04 ± 3.216e-06 m (1.72%)"
   ]
  },
  {
   "cell_type": "markdown",
   "id": "cf40cf70",
   "metadata": {},
   "source": [
    "Como mencionado no ponto anterior, os resultados obtidos mostram uma redução progressiva da incerteza à medida que a ordem do mínimo aumenta, o que é explicado pela maior separação entre os mínimos, facilitando medições mais precisas. A incerteza total para o valor médio do diâmetro do fio de cabelo foi de 1.72%, o que indica uma boa precisão na determinação deste valor. Como mencionado, seria interessante aumentar a distância entre a fenda e o padrão de difração, o que ampliaria a imagem do padrão e reduziria a incerteza nas medições e verificar como a incerteza era afetada."
   ]
  },
  {
   "cell_type": "markdown",
   "id": "e2dbc290",
   "metadata": {},
   "source": [
    "## Determinar o diâmetro de um orifício circular"
   ]
  },
  {
   "cell_type": "markdown",
   "id": "32ec328f",
   "metadata": {},
   "source": [
    "Mantendo a mesma montagem experimental, alteramos só o objeto no suporte, colocando um pequeno orifício circular do qual analisamos o padrão de difração tendo obtido os seguintes resultados:\\\n",
    "m =  1, q = 0.025 m, D = 6.896e-05 ± 1.352e-06 m (1.96%)\\\n",
    "m =  2, q = 0.051 m, D = 6.302e-05 ± 6.180e-07 m (0.98%)\\\n",
    "m =  3, q = 0.076 m, D = 6.104e-05 ± 3.992e-07 m (0.65%)\\\n",
    "\\\n",
    "Valor médio de D = 6.205e-05 ± 3.255e-07 m (0.52%)"
   ]
  },
  {
   "cell_type": "markdown",
   "id": "a2ed8ea0",
   "metadata": {},
   "source": [
    "A análise destes resultados é a mesma já realizada anteriormente pois eles são extremamente concordantes."
   ]
  },
  {
   "cell_type": "markdown",
   "id": "f944cadc",
   "metadata": {},
   "source": [
    "# Conclusões"
   ]
  },
  {
   "cell_type": "markdown",
   "id": "872c9f83",
   "metadata": {},
   "source": [
    "Neste estudo, realizámos duas experiências principais para determinar o índice de refração do ar e do vidro, e para determinar o tamanho de uma fenda linear e circular e o diâmetro de um fio de cabelo através de padrões de difração. \\\n",
    "\\\n",
    "Na primeira experiência, utilizámos o interferómetro de Michelson para medir o índice de refração do ar, a partir da variação do número de franjas observadas em função da alteração da distância entre espelhos. Os resultados obtidos mostraram um valor médio de n=1.018±0.029, com um erro relativo de 1.81% em comparação com o valor teórico. Em seguida, determinámos o índice de refração de um vidro estudando a variação do número de franjas observadas em função do ângulo da lámina de vidro, com um valor médio de nv=1.650±0.062, apresentando um erro relativo de 8.56% em relação ao vidro crown, 4.77% para o vidro zinc-crown e 12.69% para o vidro heaviest-flint-glass.\\\n",
    "\\\n",
    "Na segunda parte do estudo, investigámos padrões de difração para determinar o tamanho de uma fenda linear, circular e o diâmetro de um fio de cabelo. Utilizámos diferentes ordens de difração para reduzir a incerteza nas medições, observando uma diminuição progressiva da incerteza com o aumento da ordem dos mínimos. Para a fenda linear, a incerteza foi de 0.36%, para a fenda circular, de 0.52%, e para o fio de cabelo, de 1.72%. Sugerimos também que distâncias maiores entre a fenda e o padrão de difração poderiam melhorar a precisão das medições, ao ampliar a imagem do padrão e reduzir a incerteza associada.\\\n",
    "\\\n",
    "Em conclusão, as metodologias empregadas permitiram determinar com boa precisão os índices de refração e os tamanhos de objetos muito pequenos."
   ]
  }
 ],
 "metadata": {
  "kernelspec": {
   "display_name": "Python 3 (ipykernel)",
   "language": "python",
   "name": "python3"
  },
  "language_info": {
   "codemirror_mode": {
    "name": "ipython",
    "version": 3
   },
   "file_extension": ".py",
   "mimetype": "text/x-python",
   "name": "python",
   "nbconvert_exporter": "python",
   "pygments_lexer": "ipython3",
   "version": "3.9.13"
  }
 },
 "nbformat": 4,
 "nbformat_minor": 5
}
